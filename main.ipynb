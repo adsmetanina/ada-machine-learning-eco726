{
  "cells": [
    {
      "cell_type": "code",
      "execution_count": null,
      "metadata": {
        "colab": {
          "base_uri": "https://localhost:8080/"
        },
        "collapsed": true,
        "id": "g6GYzHdMwHvo",
        "outputId": "b9f07933-c822-4e53-f2a7-cb9ef7137ca0"
      },
      "outputs": [
        {
          "name": "stderr",
          "output_type": "stream",
          "text": [
            "Installing package into ‘/usr/local/lib/R/site-library’\n",
            "(as ‘lib’ is unspecified)\n",
            "\n",
            "Warning message in install.packages(\"grf\"):\n",
            "“installation of package ‘grf’ had non-zero exit status”\n",
            "Installing package into ‘/usr/local/lib/R/site-library’\n",
            "(as ‘lib’ is unspecified)\n",
            "\n",
            "Installing package into ‘/usr/local/lib/R/site-library’\n",
            "(as ‘lib’ is unspecified)\n",
            "\n",
            "Warning message in install.packages(\"ggplot2\"):\n",
            "“installation of package ‘ggplot2’ had non-zero exit status”\n",
            "Installing package into ‘/usr/local/lib/R/site-library’\n",
            "(as ‘lib’ is unspecified)\n",
            "\n",
            "Installing package into ‘/usr/local/lib/R/site-library’\n",
            "(as ‘lib’ is unspecified)\n",
            "\n",
            "also installing the dependencies ‘minqa’, ‘numDeriv’, ‘mitools’, ‘RcppArmadillo’\n",
            "\n",
            "\n",
            "Warning message in install.packages(\"survey\"):\n",
            "“installation of package ‘survey’ had non-zero exit status”\n"
          ]
        }
      ],
      "source": [
        "# installing required libraries\n",
        "install.packages(\"grf\")\n",
        "install.packages(\"dplyr\")\n",
        "install.packages(\"ggplot2\")\n",
        "install.packages(\"haven\")\n",
        "install.packages(\"survey\")\n",
        "\n",
        "# loading required libraries\n",
        "library(grf)\n",
        "library(dplyr)\n",
        "library(ggplot2)\n",
        "library(haven)\n",
        "library(survey)"
      ]
    },
    {
      "cell_type": "code",
      "execution_count": null,
      "metadata": {
        "colab": {
          "base_uri": "https://localhost:8080/"
        },
        "collapsed": true,
        "id": "vJZVpWEd_qp6",
        "outputId": "a713e45d-5015-48b3-eb90-9a8107106266"
      },
      "outputs": [
        {
          "name": "stdout",
          "output_type": "stream",
          "text": [
            "\u001b[90m# A tibble: 6 × 145\u001b[39m\n",
            "  lineno   age marital   sex   vet   hga   hgc  race  stat fnlwgt ernlwt\n",
            "   \u001b[3m\u001b[90m<dbl>\u001b[39m\u001b[23m \u001b[3m\u001b[90m<dbl>\u001b[39m\u001b[23m   \u001b[3m\u001b[90m<dbl>\u001b[39m\u001b[23m \u001b[3m\u001b[90m<dbl>\u001b[39m\u001b[23m \u001b[3m\u001b[90m<dbl>\u001b[39m\u001b[23m \u001b[3m\u001b[90m<dbl>\u001b[39m\u001b[23m \u001b[3m\u001b[90m<dbl>\u001b[39m\u001b[23m \u001b[3m\u001b[90m<dbl>\u001b[39m\u001b[23m \u001b[3m\u001b[90m<dbl>\u001b[39m\u001b[23m  \u001b[3m\u001b[90m<dbl>\u001b[39m\u001b[23m  \u001b[3m\u001b[90m<dbl>\u001b[39m\u001b[23m\n",
            "\u001b[90m1\u001b[39m      1    45       1     1     6    16     1     1     1 \u001b[4m1\u001b[24m\u001b[4m4\u001b[24m\u001b[4m1\u001b[24m885      0\n",
            "\u001b[90m2\u001b[39m      3    50       5     1     6    40    \u001b[31mNA\u001b[39m     1     1 \u001b[4m1\u001b[24m\u001b[4m7\u001b[24m\u001b[4m7\u001b[24m999      0\n",
            "\u001b[90m3\u001b[39m      2    63       1     2     6    39    \u001b[31mNA\u001b[39m     1     1 \u001b[4m1\u001b[24m\u001b[4m3\u001b[24m\u001b[4m2\u001b[24m510      0\n",
            "\u001b[90m4\u001b[39m      1    37       7     2     6    43    \u001b[31mNA\u001b[39m     1     1     \u001b[31mNA\u001b[39m      0\n",
            "\u001b[90m5\u001b[39m      1    47       5     2     6    43    \u001b[31mNA\u001b[39m     1     1  \u001b[4m6\u001b[24m\u001b[4m6\u001b[24m892      0\n",
            "\u001b[90m6\u001b[39m      2    64       1     2     6    36    \u001b[31mNA\u001b[39m     1     1  \u001b[4m3\u001b[24m\u001b[4m2\u001b[24m715      0\n",
            "\u001b[90m# ℹ 134 more variables: marsupwt <dbl>, hrs1 <dbl>, whenlj <dbl>, clswkr <dbl>,\u001b[39m\n",
            "\u001b[90m#   nlflj <dbl>, grswk <dbl>, lfsr <dbl>, untype <dbl>, nlfrea <dbl>,\u001b[39m\n",
            "\u001b[90m#   mjind <dbl>, mjocc <dbl>, rcow <dbl>, rsnnotw <dbl>, wkswork <dbl>,\u001b[39m\n",
            "\u001b[90m#   losewks <dbl>, lknone <dbl>, lkstrch <dbl>, phmemprs <dbl>, ljcw <dbl>,\u001b[39m\n",
            "\u001b[90m#   occup <dbl>, clwk <dbl>, wemocg <dbl>, wemind <dbl>, noemp <dbl>,\u001b[39m\n",
            "\u001b[90m#   ern_val <dbl>, wsal_val <dbl>, uc_yn <dbl>, subuc <dbl>, strkuc <dbl>,\u001b[39m\n",
            "\u001b[90m#   uc_val <dbl>, wc_yn <dbl>, wc_type <dbl>, ssi_yn <dbl>, ssi_val <dbl>, …\u001b[39m\n"
          ]
        }
      ],
      "source": [
        "if (file.exists(\"/content/stratsample_data.dta\")) {\n",
        "  data <- read_dta(\"/content/stratsample_data.dta\")\n",
        "  print(head(data))\n",
        "} else {\n",
        "  stop(\"Error: File 'stratsample_data.dta' not found in '/content/'.\n",
        "        Please ensure the file is uploaded to the correct location.\")\n",
        "}"
      ]
    },
    {
      "cell_type": "code",
      "execution_count": null,
      "metadata": {
        "colab": {
          "base_uri": "https://localhost:8080/",
          "height": 1000
        },
        "collapsed": true,
        "id": "gb_iFeT2ERUB",
        "outputId": "a1e05e1f-c352-43df-fcd8-378d328fc707"
      },
      "outputs": [
        {
          "output_type": "display_data",
          "data": {
            "text/plain": [
              "\n",
              "    0     1 \n",
              "18096   647 "
            ]
          },
          "metadata": {}
        },
        {
          "output_type": "display_data",
          "data": {
            "text/plain": [
              "\n",
              "    0     1 \n",
              " 3912 14831 "
            ]
          },
          "metadata": {}
        },
        {
          "output_type": "display_data",
          "data": {
            "text/plain": [
              "     Min.   1st Qu.    Median      Mean   3rd Qu.      Max. \n",
              "    0.019   182.177   346.154   450.674   576.923 24000.000 "
            ]
          },
          "metadata": {}
        },
        {
          "output_type": "display_data",
          "data": {
            "text/plain": [
              "   Min. 1st Qu.  Median    Mean 3rd Qu.    Max. \n",
              " -3.951   5.205   5.847   5.692   6.358  10.086 "
            ]
          },
          "metadata": {}
        },
        {
          "output_type": "stream",
          "name": "stdout",
          "text": [
            "Number of NA values in lavgwkly: 0 \n"
          ]
        },
        {
          "output_type": "stream",
          "name": "stderr",
          "text": [
            "Warning message:\n",
            "“Unknown or uninitialised column: `lavgweekly`.”\n"
          ]
        },
        {
          "output_type": "stream",
          "name": "stdout",
          "text": [
            "$disabled_hp\n",
            "   Min. 1st Qu.  Median    Mean 3rd Qu.    Max. \n",
            "0.00000 0.00000 0.00000 0.03452 0.00000 1.00000 \n",
            "\n",
            "$lavgwkly\n",
            "Length  Class   Mode \n",
            "     0   NULL   NULL \n",
            "\n",
            "$female\n",
            "   Min. 1st Qu.  Median    Mean 3rd Qu.    Max. \n",
            " 0.0000  0.0000  0.0000  0.4688  1.0000  1.0000 \n",
            "\n",
            "$age\n",
            "   Min. 1st Qu.  Median    Mean 3rd Qu.    Max. \n",
            "  17.00   28.00   37.00   37.92   47.00   69.00 \n",
            "\n",
            "$lesshs\n",
            "   Min. 1st Qu.  Median    Mean 3rd Qu.    Max. \n",
            " 0.0000  0.0000  0.0000  0.1531  0.0000  1.0000 \n",
            "\n",
            "$hsgrad\n",
            "   Min. 1st Qu.  Median    Mean 3rd Qu.    Max. \n",
            " 0.0000  0.0000  0.0000  0.3602  1.0000  1.0000 \n",
            "\n",
            "$someco\n",
            "   Min. 1st Qu.  Median    Mean 3rd Qu.    Max. \n",
            " 0.0000  0.0000  0.0000  0.2515  1.0000  1.0000 \n",
            "\n",
            "$white\n",
            "   Min. 1st Qu.  Median    Mean 3rd Qu.    Max. \n",
            " 0.0000  1.0000  1.0000  0.8739  1.0000  1.0000 \n",
            "\n",
            "$black\n",
            "   Min. 1st Qu.  Median    Mean 3rd Qu.    Max. \n",
            " 0.0000  0.0000  0.0000  0.0844  0.0000  1.0000 \n",
            "\n",
            "$other\n",
            "   Min. 1st Qu.  Median    Mean 3rd Qu.    Max. \n",
            "0.00000 0.00000 0.00000 0.04172 0.00000 1.00000 \n",
            "\n",
            "$newengl\n",
            "   Min. 1st Qu.  Median    Mean 3rd Qu.    Max. \n",
            "0.00000 0.00000 0.00000 0.08574 0.00000 1.00000 \n",
            "\n",
            "$midatl\n",
            "   Min. 1st Qu.  Median    Mean 3rd Qu.    Max. \n",
            " 0.0000  0.0000  0.0000  0.1478  0.0000  1.0000 \n",
            "\n",
            "$eastnor\n",
            "   Min. 1st Qu.  Median    Mean 3rd Qu.    Max. \n",
            " 0.0000  0.0000  0.0000  0.1478  0.0000  1.0000 \n",
            "\n",
            "$westnor\n",
            "   Min. 1st Qu.  Median    Mean 3rd Qu.    Max. \n",
            "0.00000 0.00000 0.00000 0.08569 0.00000 1.00000 \n",
            "\n",
            "$southatl\n",
            "   Min. 1st Qu.  Median    Mean 3rd Qu.    Max. \n",
            " 0.0000  0.0000  0.0000  0.1711  0.0000  1.0000 \n",
            "\n",
            "$eaststh\n",
            "   Min. 1st Qu.  Median    Mean 3rd Qu.    Max. \n",
            "0.00000 0.00000 0.00000 0.04524 0.00000 1.00000 \n",
            "\n",
            "$weststh\n",
            "   Min. 1st Qu.  Median    Mean 3rd Qu.    Max. \n",
            "0.00000 0.00000 0.00000 0.08739 0.00000 1.00000 \n",
            "\n",
            "$mountain\n",
            "   Min. 1st Qu.  Median    Mean 3rd Qu.    Max. \n",
            "0.00000 0.00000 0.00000 0.09657 0.00000 1.00000 \n",
            "\n",
            "$pacific\n",
            "   Min. 1st Qu.  Median    Mean 3rd Qu.    Max. \n",
            " 0.0000  0.0000  0.0000  0.1326  0.0000  1.0000 \n",
            "\n"
          ]
        }
      ],
      "source": [
        "# overwriting treatment group as binary\n",
        "data$dis_hp <- ifelse(data$dis_hp == 1, 1, 0)\n",
        "\n",
        "data <- data %>%\n",
        "  filter(!is.na(dis_hp)) # Remove rows NA in dis_hp\n",
        "\n",
        " # verifying transformation\n",
        "  table(data$dis_hp)\n",
        "\n",
        "# defining and summarizing treatment indicator for post-ada period\n",
        "    data$treatment <- ifelse(data$year >= 90, 1, 0)\n",
        "    table(data$treatment)\n",
        "\n",
        "# defining and summarizing lavgwkly\n",
        "  # checking for non positive values in avgwkly\n",
        "  summary(data$avgwkly)\n",
        "\n",
        "  # replacing non positive values w/ NA\n",
        "  data$avgwkly <- ifelse(data$avgwkly > 0, data$avgwkly, NA)\n",
        "\n",
        "  # applying log transformation to avgwkly\n",
        "  data$lavgwkly <- log(data$avgwkly)\n",
        "\n",
        "  # varifying the transformation\n",
        "  summary(data$lavgwkly)\n",
        "\n",
        "  # removing rows non positive avgwkly\n",
        "  data <- data[data$avgwkly > 0, ]\n",
        "\n",
        "  # counting remaining NA values after transformation\n",
        "  cat(\"Number of NA values in lavgwkly:\", sum(is.na(data$lavgwkly)), \"\\n\")\n",
        "\n",
        "\n",
        "# summarizing covariates\n",
        "summaries <- list(\n",
        "  disabled_hp = summary(data$dis_hp), # Treatment: Self-report health problem\n",
        "  lavgwkly = summary(data$lavgweekly), # Range: 0.019-24000.000\n",
        "  female = summary(data$female), # Range: Binary\n",
        "  age = summary(data$age), # Range: 17-69\n",
        "  lesshs = summary(data$lesshs), # Range: Binary\n",
        "  hsgrad = summary(data$hsgrad),  # Range: Binary\n",
        "  someco = summary(data$someco), # Range: Binary\n",
        "  white = summary(data$white), # Range: Binary\n",
        "  black = summary(data$black),  # Range: Binary\n",
        "  other = summary(data$other), # Range: Binary\n",
        "  newengl = summary(data$newengl), # Range: Binary\n",
        "  midatl = summary(data$midatl), # Range: Binary\n",
        "  eastnor = summary(data$eastnor), # Range: Binary\n",
        "  westnor = summary(data$westnor), # Range: Binary\n",
        "  southatl = summary(data$southatl), # Range: Binary\n",
        "  eaststh = summary(data$eaststh), # Range: Binary\n",
        "  weststh = summary(data$weststh), # Range: Binary\n",
        "  mountain = summary(data$mountain), # Range: Binary\n",
        "  pacific = summary(data$pacific) # Range: Binary\n",
        ")\n",
        "print(summaries)"
      ]
    },
    {
      "cell_type": "code",
      "execution_count": null,
      "metadata": {
        "colab": {
          "base_uri": "https://localhost:8080/",
          "height": 119
        },
        "collapsed": true,
        "id": "zJ6ovwCBmhYV",
        "outputId": "4e96bc88-971f-491c-f9e0-c0e47147d891"
      },
      "outputs": [
        {
          "output_type": "stream",
          "name": "stderr",
          "text": [
            "Installing package into ‘/usr/local/lib/R/site-library’\n",
            "(as ‘lib’ is unspecified)\n",
            "\n"
          ]
        },
        {
          "output_type": "stream",
          "name": "stdout",
          "text": [
            "[1] 0.03451955\n"
          ]
        },
        {
          "output_type": "display_data",
          "data": {
            "text/plain": [
              "          mean     SE\n",
              "dis_hp 0.19078 0.0062"
            ]
          },
          "metadata": {}
        }
      ],
      "source": [
        "# adding weights to dis_hp\n",
        "install.packages(\"survey\")\n",
        "library(survey)\n",
        "\n",
        "prop <- sum(data$dis_hp == 1) / nrow(data)\n",
        "print(prop)\n",
        "\n",
        "# adding weights to match the desired proportions\n",
        "data <- data %>%\n",
        "  mutate(weight = ifelse(dis_hp == 1, 19.3 / 3.5, (100 - 19.3) / (100 - 3.5)))\n",
        "\n",
        "library(survey)\n",
        "design <- svydesign(ids = ~1, data = data, weights = ~weight)\n",
        "svymean(~dis_hp, design)"
      ]
    },
    {
      "cell_type": "code",
      "source": [
        "install.packages(\"car\")\n",
        "library(car)\n",
        "\n",
        "# fitting a regression model\n",
        "model <- lm(lavgwkly ~ dis_hp + female + age + lesshs + hsgrad + someco + white + black + midatl + eastnor + westnor + southatl + eaststh + weststh + mountain + pacific, data = data, weights = weight)\n",
        "\n",
        "vif_values <- vif(model)\n",
        "print(vif_values)\n",
        "\n",
        "# summarizing results\n",
        "summary(model)\n",
        "\n",
        "# extracting p-values for the treatment effect (dis_hp)\n",
        "p_value <- summary(model)$coefficients[\"dis_hp\", \"Pr(>|t|)\"]\n",
        "cat(\"P-value for treatment effect (dis_hp):\", p_value, \"\\n\")"
      ],
      "metadata": {
        "colab": {
          "base_uri": "https://localhost:8080/",
          "height": 748
        },
        "collapsed": true,
        "id": "CnE2UcLXxdz3",
        "outputId": "f12fd3ad-1207-4338-bc12-9e6452ce98ab"
      },
      "execution_count": null,
      "outputs": [
        {
          "output_type": "stream",
          "name": "stderr",
          "text": [
            "Installing package into ‘/usr/local/lib/R/site-library’\n",
            "(as ‘lib’ is unspecified)\n",
            "\n"
          ]
        },
        {
          "output_type": "stream",
          "name": "stdout",
          "text": [
            "  dis_hp   female      age   lesshs   hsgrad   someco    white    black \n",
            "1.043035 1.009112 1.035789 1.505530 1.730043 1.641464 2.943340 2.988349 \n",
            "  midatl  eastnor  westnor southatl  eaststh  weststh mountain  pacific \n",
            "2.306307 2.382447 1.863560 2.537118 1.486851 1.862120 1.959316 2.247294 \n"
          ]
        },
        {
          "output_type": "display_data",
          "data": {
            "text/plain": [
              "\n",
              "Call:\n",
              "lm(formula = lavgwkly ~ dis_hp + female + age + lesshs + hsgrad + \n",
              "    someco + white + black + midatl + eastnor + westnor + southatl + \n",
              "    eaststh + weststh + mountain + pacific, data = data, weights = weight)\n",
              "\n",
              "Weighted Residuals:\n",
              "     Min       1Q   Median       3Q      Max \n",
              "-22.9915  -0.3543   0.1522   0.5367   6.5359 \n",
              "\n",
              "Coefficients:\n",
              "              Estimate Std. Error t value Pr(>|t|)    \n",
              "(Intercept)  5.9627683  0.0556032 107.238  < 2e-16 ***\n",
              "dis_hp      -0.4455134  0.0201819 -22.075  < 2e-16 ***\n",
              "female      -0.5003681  0.0156359 -32.001  < 2e-16 ***\n",
              "age          0.0148539  0.0006113  24.300  < 2e-16 ***\n",
              "lesshs      -1.0044803  0.0256782 -39.118  < 2e-16 ***\n",
              "hsgrad      -0.5937563  0.0211860 -28.026  < 2e-16 ***\n",
              "someco      -0.4484112  0.0230020 -19.494  < 2e-16 ***\n",
              "white       -0.0286699  0.0404211  -0.709  0.47816    \n",
              "black       -0.0420217  0.0483878  -0.868  0.38517    \n",
              "midatl       0.0238959  0.0337893   0.707  0.47945    \n",
              "eastnor     -0.0805644  0.0333202  -2.418  0.01562 *  \n",
              "westnor     -0.3540757  0.0374002  -9.467  < 2e-16 ***\n",
              "southatl    -0.0143663  0.0329529  -0.436  0.66287    \n",
              "eaststh     -0.1167286  0.0451133  -2.587  0.00968 ** \n",
              "weststh     -0.1153978  0.0374956  -3.078  0.00209 ** \n",
              "mountain    -0.2098703  0.0363574  -5.772 7.94e-09 ***\n",
              "pacific      0.0129480  0.0346186   0.374  0.70840    \n",
              "---\n",
              "Signif. codes:  0 ‘***’ 0.001 ‘**’ 0.01 ‘*’ 0.05 ‘.’ 0.1 ‘ ’ 1\n",
              "\n",
              "Residual standard error: 1.062 on 18726 degrees of freedom\n",
              "Multiple R-squared:  0.1825,\tAdjusted R-squared:  0.1818 \n",
              "F-statistic: 261.2 on 16 and 18726 DF,  p-value: < 2.2e-16\n"
            ]
          },
          "metadata": {}
        },
        {
          "output_type": "stream",
          "name": "stdout",
          "text": [
            "P-value for treatment effect (dis_hp): 1.25998e-106 \n"
          ]
        }
      ]
    },
    {
      "cell_type": "code",
      "source": [
        "install.packages(\"tidyr\")\n",
        "\n",
        "# loading necessary libraries\n",
        "library(tidyr) # Make sure tidyr is loaded\n",
        "\n",
        "# defining the survey design w/ weights\n",
        "design <- svydesign(ids = ~1, data = data, weights = ~weight)\n",
        "\n",
        "# calculating weighted covariate means and SMDs\n",
        "covariates <- c(\"female\", \"age\", \"lesshs\", \"hsgrad\", \"someco\", \"white\", \"black\")\n",
        "weighted_means <- svyby(~female + age + lesshs + hsgrad + someco + white + black,\n",
        "                        ~dis_hp, design, svymean)\n",
        "\n",
        "# computing smds using weighted means and pooled standard deviations\n",
        "balance_table <- weighted_means %>%\n",
        "  pivot_longer(-dis_hp, names_to = \"Covariate\", values_to = \"Mean\") %>%\n",
        "  group_by(Covariate) %>%\n",
        "  summarize(SMD = abs(diff(Mean)) /\n",
        "                  sqrt(mean((sd(data[[first(Covariate)]][data$dis_hp == 1])^2 + # Use first(Covariate)\n",
        "                             sd(data[[first(Covariate)]][data$dis_hp == 0])^2)))) # Use first(Covariate)\n",
        "\n",
        "# filtering out standard error variables (SE variables) from the balance table\n",
        "balance_table <- balance_table %>%\n",
        "  filter(!grepl(\"^se\\\\.\", Covariate))\n",
        "\n",
        "# creating a love plot for SMDs\n",
        "ggplot(balance_table, aes(x = SMD, y = Covariate)) +\n",
        "  geom_point() +\n",
        "  geom_vline(xintercept = c(-0.1, 0.1), linetype = \"dashed\", color = \"red\") +\n",
        "  labs(title = \"Weighted Standardized Mean Differences (SMDs)\",\n",
        "       x = \"SMD\", y = \"Covariate\") +\n",
        "  theme_minimal()\n",
        "\n",
        "# saving the plot as png file\n",
        "ggsave(\"weighted_smd_plot.png\", width = 8, height = 6, dpi = 300)"
      ],
      "metadata": {
        "colab": {
          "base_uri": "https://localhost:8080/",
          "height": 488
        },
        "collapsed": true,
        "id": "9qbosQU17RkU",
        "outputId": "6b83b359-0faf-4907-b944-93eea47667ce"
      },
      "execution_count": null,
      "outputs": [
        {
          "output_type": "stream",
          "name": "stderr",
          "text": [
            "Installing package into ‘/usr/local/lib/R/site-library’\n",
            "(as ‘lib’ is unspecified)\n",
            "\n"
          ]
        },
        {
          "output_type": "display_data",
          "data": {
            "text/plain": [
              "plot without title"
            ],
            "image/png": "[encoded data removed]"
          },
          "metadata": {
            "image/png": {
              "width": 420,
              "height": 420
            }
          }
        }
      ]
    },
    {
      "cell_type": "code",
      "execution_count": null,
      "metadata": {
        "id": "a4BEZ5bW1q4n"
      },
      "outputs": [],
      "source": [
        "# loading necessary libraries\n",
        "library(dplyr)\n",
        "library(ggplot2)\n",
        "\n",
        "# filtering data for relevant age range and valid weights\n",
        "data <- data %>%\n",
        "  filter(age >= 21 & age <= 58 & !is.na(fnlwgt)) %>%\n",
        "  mutate(\n",
        "    # binary treatment indicator for self-reported disability/health problem\n",
        "    dis_hp_binary = ifelse(dis_hp == 1, 1, 0),\n",
        "\n",
        "    # treatment group categorization\n",
        "    disability_category = case_when(\n",
        "      dis_hp == 1 ~ \"Self-reported Disability - Health Problem\",\n",
        "      dis_hp == 2 ~ \"No Self-reported Disability\",\n",
        "      TRUE ~ NA_character_\n",
        "    ),\n",
        "\n",
        "    # categorize age group\n",
        "    age_category = case_when(\n",
        "      age >= 21 & age <= 39 ~ \"21-39\",\n",
        "      age >= 40 & age <= 58 ~ \"40-58\",\n",
        "      TRUE ~ NA_character_\n",
        "    ),\n",
        "\n",
        "    # categorize education level\n",
        "    education_category = case_when(\n",
        "      lesshs == 1 ~ \"Less than High School\",\n",
        "      hsgrad == 1 ~ \"High School Graduate\",\n",
        "      someco == 1 ~ \"Some College\",\n",
        "      TRUE ~ NA_character_\n",
        "    ),\n",
        "\n",
        "    # region categorization\n",
        "    region_category = case_when(\n",
        "      midatl == 1 ~ \"Mid-Atlantic\",\n",
        "      eastnor == 1 ~ \"East North Central\",\n",
        "      westnor == 1 ~ \"West North Central\",\n",
        "      southatl == 1 ~ \"South Atlantic\",\n",
        "      eaststh == 1 ~ \"East South Central\",\n",
        "      weststh == 1 ~ \"West South Central\",\n",
        "      mountain == 1 ~ \"Mountain\",\n",
        "      pacific == 1 ~ \"Pacific\",\n",
        "      TRUE ~ \"New England\"  # Default baseline\n",
        "    ),\n",
        "\n",
        "    # gender categorization\n",
        "    female_category = case_when(\n",
        "      female == 1 ~ \"Female\",\n",
        "      TRUE ~ \"Male\"\n",
        "    ),\n",
        "\n",
        "    # race categorization\n",
        "    race_category = case_when(\n",
        "      white == 1 ~ \"White\",\n",
        "      black == 1 ~ \"Black\",\n",
        "      other == 1 ~ \"Other\",\n",
        "      TRUE ~ NA_character_\n",
        "    ),\n",
        "\n",
        "    # handling zeros or negatives in avgwkly for log transformation\n",
        "    avgwkly = ifelse(avgwkly > 0, avgwkly, NA),\n",
        "    lavgwkly = log(avgwkly)\n",
        "  ) %>%\n",
        "  # converting categorical variables to factors\n",
        "  mutate(\n",
        "    age_category = as.factor(age_category),\n",
        "    education_category = as.factor(education_category),\n",
        "    region_category = as.factor(region_category),\n",
        "    female_category = as.factor(female_category),\n",
        "    race_category = as.factor(race_category),\n",
        "    disability_category = as.factor(disability_category)\n",
        "  ) %>%\n",
        "  # filtering out rows w/ missing or invalid values for key variables\n",
        "  filter(\n",
        "    !is.na(education_category),\n",
        "    !is.na(race_category),\n",
        "    !is.na(wkswork),\n",
        "    !is.na(avgwkly)\n",
        "  )\n",
        "\n",
        "# applying weights to match desired proportions\n",
        "data <- data %>%\n",
        "  mutate(weight = ifelse(dis_hp == 1, 19.3 / 3.5, (100 - 19.3) / (100 - 3.5)))\n",
        "\n",
        "# grouping individuals by key covariates\n",
        "X <- data %>%\n",
        "  select(age_category, education_category, region_category, female_category,\n",
        "         race_category) %>%\n",
        "  # converting categorical features to numeric using one-hot encoding\n",
        "  model.matrix(~ . -1, data = .)\n",
        "\n",
        "# training causal forest model (cf_lavgwkly)\n",
        "cf_lavgwkly <- causal_forest(\n",
        "  X = X,\n",
        "  Y = as.vector(data$lavgwkly), # dependent variable: log of awe, explicitly converted to a vector\n",
        "  W = as.vector(data$treatment), # treatment variable: explicitly converted to a vector\n",
        "  sample.weights = data$fnlwgt, # weighting\n",
        "  num.trees = 2000, # number of trees\n",
        "  min.node.size = 10 # minimum nodes\n",
        ")\n",
        "\n",
        "data <- data %>%\n",
        "  mutate(group = paste(female_category, age_category, education_category, region_category, sep = \"_\"))\n",
        "\n",
        "# predicting cates for log weekly earnings and adding to the data dataframe\n",
        "data$cates_lavgwkly <- predict(cf_lavgwkly)$predictions\n",
        "\n",
        "\n",
        "# calculating weighted group-level cates\n",
        "group_cates <- data %>%\n",
        "  group_by(group) %>%\n",
        "  summarize(\n",
        "    avg_cate_lavgwkly = weighted.mean(cates_lavgwkly, w = weight, na.rm = TRUE),\n",
        "    count = n(),  # number of individuals in each group\n",
        "    .groups = \"drop\"\n",
        "  )\n",
        "\n",
        "# identifying top and bottom groups for log weekly earnings\n",
        "top_groups_lavgwkly <- group_cates %>% arrange(desc(avg_cate_lavgwkly)) %>% slice_head(n = 5)\n",
        "bottom_groups_lavgwkly <- group_cates %>% arrange(avg_cate_lavgwkly) %>% slice_head(n = 5)\n",
        "filtered_groups_lavgwkly <- bind_rows(top_groups_lavgwkly, bottom_groups_lavgwkly)\n",
        "\n",
        "# plotting top and bottom groups for log weekly earnings\n",
        "log_weekly_earnings_plot <- ggplot(filtered_groups_lavgwkly, aes(x = reorder(group, avg_cate_lavgwkly), y = avg_cate_lavgwkly)) +\n",
        "  geom_bar(stat = \"identity\", fill = \"blue\") +\n",
        "  coord_flip() +\n",
        "  labs(\n",
        "    title = \"Top and Bottom Groups: Weighted Average CATE for Log Weekly Earnings\",\n",
        "    x = \"Group\",\n",
        "    y = \"Weighted Average CATE (Log Weekly Earnings)\"\n",
        "  ) +\n",
        "  theme_minimal()\n",
        "\n",
        "# saving the plot\n",
        "ggsave(\n",
        "  filename = \"weighted_top_bottom_groups_cate_log_weekly_earnings.png\",\n",
        "  plot = log_weekly_earnings_plot,\n",
        "  width = 10,\n",
        "  height = 8,\n",
        "  dpi = 300\n",
        ")"
      ]
    },
    {
      "cell_type": "code",
      "execution_count": null,
      "metadata": {
        "colab": {
          "base_uri": "https://localhost:8080/"
        },
        "id": "smuPQGHhStHD",
        "outputId": "66f52ce4-571d-4295-e980-e1448de45906"
      },
      "outputs": [
        {
          "output_type": "stream",
          "name": "stdout",
          "text": [
            "\u001b[90m# A tibble: 102 × 4\u001b[39m\n",
            "   group                                avg_cate_wkswork avg_cate_lavgwkly count\n",
            "   \u001b[3m\u001b[90m<chr>\u001b[39m\u001b[23m                                           \u001b[3m\u001b[90m<dbl>\u001b[39m\u001b[23m             \u001b[3m\u001b[90m<dbl>\u001b[39m\u001b[23m \u001b[3m\u001b[90m<int>\u001b[39m\u001b[23m\n",
            "\u001b[90m 1\u001b[39m Female_21-39_High School Graduate_E…             3.87             0.423     8\n",
            "\u001b[90m 2\u001b[39m Female_21-39_High School Graduate_M…             4.05             0.432     5\n",
            "\u001b[90m 3\u001b[39m Female_21-39_High School Graduate_M…             3.93             0.412     8\n",
            "\u001b[90m 4\u001b[39m Female_21-39_High School Graduate_N…             4.03             0.428     3\n",
            "\u001b[90m 5\u001b[39m Female_21-39_High School Graduate_P…             3.89             0.420     5\n",
            "\u001b[90m 6\u001b[39m Female_21-39_High School Graduate_S…             3.84             0.430    11\n",
            "\u001b[90m 7\u001b[39m Female_21-39_High School Graduate_W…             3.94             0.396     1\n",
            "\u001b[90m 8\u001b[39m Female_21-39_High School Graduate_W…             3.97             0.417     1\n",
            "\u001b[90m 9\u001b[39m Female_21-39_Less than High School_…             3.85             0.414     6\n",
            "\u001b[90m10\u001b[39m Female_21-39_Less than High School_…             4.10             0.411     1\n",
            "\u001b[90m# ℹ 92 more rows\u001b[39m\n",
            "\u001b[90m# A tibble: 108 × 4\u001b[39m\n",
            "   group                                avg_cate_wkswork avg_cate_lavgwkly count\n",
            "   \u001b[3m\u001b[90m<chr>\u001b[39m\u001b[23m                                           \u001b[3m\u001b[90m<dbl>\u001b[39m\u001b[23m             \u001b[3m\u001b[90m<dbl>\u001b[39m\u001b[23m \u001b[3m\u001b[90m<int>\u001b[39m\u001b[23m\n",
            "\u001b[90m 1\u001b[39m Female_21-39_High School Graduate_E…           -\u001b[31m0\u001b[39m\u001b[31m.\u001b[39m\u001b[31m314\u001b[39m           -\u001b[31m0\u001b[39m\u001b[31m.\u001b[39m\u001b[31m0\u001b[39m\u001b[31m78\u001b[4m8\u001b[24m\u001b[39m   230\n",
            "\u001b[90m 2\u001b[39m Female_21-39_High School Graduate_E…           -\u001b[31m1\u001b[39m\u001b[31m.\u001b[39m\u001b[31m54\u001b[39m            -\u001b[31m0\u001b[39m\u001b[31m.\u001b[39m\u001b[31m0\u001b[39m\u001b[31m85\u001b[4m1\u001b[24m\u001b[39m    92\n",
            "\u001b[90m 3\u001b[39m Female_21-39_High School Graduate_M…            1.09             0.215    222\n",
            "\u001b[90m 4\u001b[39m Female_21-39_High School Graduate_M…            3.98             0.207    152\n",
            "\u001b[90m 5\u001b[39m Female_21-39_High School Graduate_N…           -\u001b[31m0\u001b[39m\u001b[31m.\u001b[39m\u001b[31m630\u001b[39m           -\u001b[31m0\u001b[39m\u001b[31m.\u001b[39m\u001b[31m0\u001b[39m\u001b[31m56\u001b[4m9\u001b[24m\u001b[39m   128\n",
            "\u001b[90m 6\u001b[39m Female_21-39_High School Graduate_P…           -\u001b[31m2\u001b[39m\u001b[31m.\u001b[39m\u001b[31m94\u001b[39m             0.127    170\n",
            "\u001b[90m 7\u001b[39m Female_21-39_High School Graduate_S…            0.810            0.162    264\n",
            "\u001b[90m 8\u001b[39m Female_21-39_High School Graduate_W…           -\u001b[31m1\u001b[39m\u001b[31m.\u001b[39m\u001b[31m75\u001b[39m             0.162    135\n",
            "\u001b[90m 9\u001b[39m Female_21-39_High School Graduate_W…            0.646            0.466    162\n",
            "\u001b[90m10\u001b[39m Female_21-39_Less than High School_…           -\u001b[31m1\u001b[39m\u001b[31m.\u001b[39m\u001b[31m28\u001b[39m             0.029\u001b[4m1\u001b[24m    40\n",
            "\u001b[90m# ℹ 98 more rows\u001b[39m\n"
          ]
        }
      ],
      "source": [
        "# loading necessary libraries\n",
        "library(dplyr)\n",
        "library(ggplot2)\n",
        "library(grf)\n",
        "\n",
        "# function to train causal forests, predict cates, and generate plots for a specific group\n",
        "analyze_cates <- function(data, dis_hp_value, group_label) {\n",
        "  # filtering data for the specified group (disabled or non-disabled)\n",
        "  group_data <- data %>% filter(dis_hp == dis_hp_value)\n",
        "\n",
        "  # preparing covariates for causal forest\n",
        "  X <- group_data %>%\n",
        "    select(age_category, education_category, region_category, female_category, race_category) %>%\n",
        "    model.matrix(~ . - 1, data = .)  # One-hot encoding (drops intercept)\n",
        "\n",
        "  # training the causal forest for weeks worked (cf_wkswork)\n",
        "  cf_wkswork <- causal_forest(\n",
        "    X = X,\n",
        "    Y = as.vector(group_data$wkswork),  # outcome variable\n",
        "    W = as.vector(group_data$treatment),  # treatment indicator\n",
        "    sample.weights = group_data$fnlwgt,  # weights\n",
        "    num.trees = 2000,\n",
        "    min.node.size = 10\n",
        "  )\n",
        "\n",
        "  # training the causal forest for log weekly earnings (cf_lavgwkly)\n",
        "  cf_lavgwkly <- causal_forest(\n",
        "    X = X,\n",
        "    Y = as.vector(group_data$lavgwkly),  # outcome variable\n",
        "    W = as.vector(group_data$treatment),  # treatment indicator\n",
        "    sample.weights = group_data$fnlwgt,  # weights\n",
        "    num.trees = 2000,\n",
        "    min.node.size = 10\n",
        "  )\n",
        "\n",
        "  # predicting cates\n",
        "  group_data$cates_wkswork <- predict(cf_wkswork)$predictions\n",
        "  group_data$cates_lavgwkly <- predict(cf_lavgwkly)$predictions\n",
        "\n",
        "  # grouping individuals by covariates\n",
        "  group_data$group <- paste(\n",
        "    group_data$female_category, group_data$age_category, group_data$education_category, group_data$region_category, sep = \"_\"\n",
        "  )\n",
        "\n",
        "  # calculating average cates for each group\n",
        "  group_cates <- group_data %>%\n",
        "    group_by(group) %>%\n",
        "    summarize(\n",
        "      avg_cate_wkswork = mean(cates_wkswork, na.rm = TRUE),\n",
        "      avg_cate_lavgwkly = mean(cates_lavgwkly, na.rm = TRUE),\n",
        "      count = n(),\n",
        "      .groups = \"drop\"\n",
        "    )\n",
        "\n",
        "  # saving summary for review\n",
        "  print(group_cates)\n",
        "\n",
        "  # plotting for weeks worked\n",
        "  top_groups_wkswork <- group_cates %>% arrange(desc(avg_cate_wkswork)) %>% slice_head(n = 5)\n",
        "  bottom_groups_wkswork <- group_cates %>% arrange(avg_cate_wkswork) %>% slice_head(n = 5)\n",
        "  filtered_groups_wkswork <- bind_rows(top_groups_wkswork, bottom_groups_wkswork)\n",
        "\n",
        "  weeks_worked_plot <- ggplot(filtered_groups_wkswork, aes(x = reorder(group, avg_cate_wkswork), y = avg_cate_wkswork)) +\n",
        "    geom_bar(stat = \"identity\", fill = \"blue\") +\n",
        "    coord_flip() +\n",
        "    labs(\n",
        "      title = paste(\"Top and Bottom Groups (\", group_label, \"): Average CATE for Weeks Worked\", sep = \"\"),\n",
        "      x = \"Group\",\n",
        "      y = \"Average CATE (Weeks Worked)\"\n",
        "    ) +\n",
        "    theme_minimal()\n",
        "\n",
        "  # saving plot\n",
        "  ggsave(\n",
        "    filename = paste0(\"top_bottom_groups_cate_weeks_worked_\", tolower(group_label), \".png\"),\n",
        "    plot = weeks_worked_plot,\n",
        "    width = 10,\n",
        "    height = 8,\n",
        "    dpi = 300\n",
        "  )\n",
        "\n",
        "  # plotting for log weekly earnings\n",
        "  top_groups_lavgwkly <- group_cates %>% arrange(desc(avg_cate_lavgwkly)) %>% slice_head(n = 5)\n",
        "  bottom_groups_lavgwkly <- group_cates %>% arrange(avg_cate_lavgwkly) %>% slice_head(n = 5)\n",
        "  filtered_groups_lavgwkly <- bind_rows(top_groups_lavgwkly, bottom_groups_lavgwkly)\n",
        "\n",
        "  log_weekly_earnings_plot <- ggplot(filtered_groups_lavgwkly, aes(x = reorder(group, avg_cate_lavgwkly), y = avg_cate_lavgwkly)) +\n",
        "    geom_bar(stat = \"identity\", fill = \"green\") +\n",
        "    coord_flip() +\n",
        "    labs(\n",
        "      title = paste(\"Top and Bottom Groups (\", group_label, \"): Average CATE for Log Weekly Earnings\", sep = \"\"),\n",
        "      x = \"Group\",\n",
        "      y = \"Average CATE (Log Weekly Earnings)\"\n",
        "    ) +\n",
        "    theme_minimal()\n",
        "\n",
        "  # savingplot\n",
        "  ggsave(\n",
        "    filename = paste0(\"top_bottom_groups_cate_log_weekly_earnings_\", tolower(group_label), \".png\"),\n",
        "    plot = log_weekly_earnings_plot,\n",
        "    width = 10,\n",
        "    height = 8,\n",
        "    dpi = 300\n",
        "  )\n",
        "}\n",
        "\n",
        "# running analysis for disabled individuals (dis_hp = 1)\n",
        "analyze_cates(data, dis_hp_value = 1, group_label = \"Disabilities\")\n",
        "\n",
        "# running analysis for non-disabled individuals (dis_hp = 0)\n",
        "analyze_cates(data, dis_hp_value = 0, group_label = \"No Disabilities\")\n",
        "\n",
        "ggsave(\n",
        "  filename = \"top_bottom_groups_cate_log_weekly_earnings_disabilities.png\",\n",
        "  plot = log_weekly_earnings_plot,\n",
        "  width = 10,\n",
        "  height = 8,\n",
        "  dpi = 300\n",
        ")"
      ]
    },
    {
      "cell_type": "code",
      "execution_count": null,
      "metadata": {
        "colab": {
          "base_uri": "https://localhost:8080/",
          "height": 1000
        },
        "id": "MiZaV2aXwsd1",
        "outputId": "c598635c-6eee-42c8-f189-c2f38f465eba"
      },
      "outputs": [
        {
          "name": "stdout",
          "output_type": "stream",
          "text": [
            "   Min. 1st Qu.  Median    Mean 3rd Qu.    Max. \n",
            "-4.0892 -1.4330 -0.5270 -0.3060  0.6898  5.6920 \n",
            "    Min.  1st Qu.   Median     Mean  3rd Qu.     Max. \n",
            "-0.21097  0.04938  0.13243  0.12517  0.18793  0.55357 \n",
            "[1] 1.603661\n",
            "[1] 0.1261459\n"
          ]
        },
        {
          "name": "stderr",
          "output_type": "stream",
          "text": [
            "\u001b[1m\u001b[22mSaving 7 x 7 in image\n"
          ]
        },
        {
          "data": {
            "image/png": "[encoded data removed]",
            "text/plain": [
              "plot without title"
            ]
          },
          "metadata": {
            "image/png": {
              "height": 420,
              "width": 420
            }
          },
          "output_type": "display_data"
        },
        {
          "name": "stderr",
          "output_type": "stream",
          "text": [
            "\u001b[1m\u001b[22mSaving 7 x 7 in image\n",
            "Warning message in average_treatment_effect(cf_wkswork, target.sample = \"all\"):\n",
            "“Estimated treatment propensities go as high as 0.996 which means that treatment effects for some treated units may not be well identified. In this case, using `target.sample=control` may be helpful.”\n",
            "Warning message in average_treatment_effect(cf_lavgwkly, target.sample = \"all\"):\n",
            "“Estimated treatment propensities go as high as 0.991 which means that treatment effects for some treated units may not be well identified. In this case, using `target.sample=control` may be helpful.”\n"
          ]
        },
        {
          "data": {
            "image/png": "[encoded data removed]",
            "text/plain": [
              "plot without title"
            ]
          },
          "metadata": {
            "image/png": {
              "height": 420,
              "width": 420
            }
          },
          "output_type": "display_data"
        },
        {
          "name": "stderr",
          "output_type": "stream",
          "text": [
            "\u001b[1m\u001b[22mSaving 7 x 7 in image\n",
            "Warning message:\n",
            "“\u001b[1m\u001b[22mContinuous \u001b[32mx\u001b[39m aesthetic\n",
            "\u001b[36mℹ\u001b[39m did you forget `aes(group = ...)`?”\n"
          ]
        },
        {
          "data": {
            "image/png": "[encoded data removed]",
            "text/plain": [
              "plot without title"
            ]
          },
          "metadata": {
            "image/png": {
              "height": 420,
              "width": 420
            }
          },
          "output_type": "display_data"
        },
        {
          "data": {
            "text/html": [
              "<table class=\"dataframe\">\n",
              "<caption>A tibble: 2 × 5</caption>\n",
              "<thead>\n",
              "\t<tr><th scope=col>disability_status</th><th scope=col>mean_cate</th><th scope=col>sd_cate</th><th scope=col>max_cate</th><th scope=col>min_cate</th></tr>\n",
              "\t<tr><th scope=col>&lt;dbl&gt;</th><th scope=col>&lt;dbl&gt;</th><th scope=col>&lt;dbl&gt;</th><th scope=col>&lt;dbl&gt;</th><th scope=col>&lt;dbl&gt;</th></tr>\n",
              "</thead>\n",
              "<tbody>\n",
              "\t<tr><td>1</td><td>-0.2825397</td><td>1.643620</td><td>5.486287</td><td>-3.290374</td></tr>\n",
              "\t<tr><td>2</td><td>-0.3069050</td><td>1.602135</td><td>5.692027</td><td>-4.089192</td></tr>\n",
              "</tbody>\n",
              "</table>\n"
            ],
            "text/latex": "A tibble: 2 × 5\n\\begin{tabular}{lllll}\n disability\\_status & mean\\_cate & sd\\_cate & max\\_cate & min\\_cate\\\\\n <dbl> & <dbl> & <dbl> & <dbl> & <dbl>\\\\\n\\hline\n\t 1 & -0.2825397 & 1.643620 & 5.486287 & -3.290374\\\\\n\t 2 & -0.3069050 & 1.602135 & 5.692027 & -4.089192\\\\\n\\end{tabular}\n",
            "text/markdown": "\nA tibble: 2 × 5\n\n| disability_status &lt;dbl&gt; | mean_cate &lt;dbl&gt; | sd_cate &lt;dbl&gt; | max_cate &lt;dbl&gt; | min_cate &lt;dbl&gt; |\n|---|---|---|---|---|\n| 1 | -0.2825397 | 1.643620 | 5.486287 | -3.290374 |\n| 2 | -0.3069050 | 1.602135 | 5.692027 | -4.089192 |\n\n",
            "text/plain": [
              "  disability_status mean_cate  sd_cate  max_cate min_cate \n",
              "1 1                 -0.2825397 1.643620 5.486287 -3.290374\n",
              "2 2                 -0.3069050 1.602135 5.692027 -4.089192"
            ]
          },
          "metadata": {},
          "output_type": "display_data"
        },
        {
          "data": {
            "text/plain": [
              " disability_status      cate    \n",
              " Min.   : NA       Min.   : NA  \n",
              " 1st Qu.: NA       1st Qu.: NA  \n",
              " Median : NA       Median : NA  \n",
              " Mean   :NaN       Mean   :NaN  \n",
              " 3rd Qu.: NA       3rd Qu.: NA  \n",
              " Max.   : NA       Max.   : NA  "
            ]
          },
          "metadata": {},
          "output_type": "display_data"
        },
        {
          "data": {
            "image/png": "[encoded data removed]",
            "text/plain": [
              "plot without title"
            ]
          },
          "metadata": {
            "image/png": {
              "height": 420,
              "width": 420
            }
          },
          "output_type": "display_data"
        }
      ],
      "source": [
        "# predicting cates\n",
        "cate_wkswork <- predict(cf_wkswork)$predictions\n",
        "cate_lavgwkly <- predict(cf_lavgwkly)$predictions\n",
        "\n",
        "write.csv(cate_wkswork, \"cate_predictions_wkswork.csv\", row.names = FALSE)\n",
        "write.csv(cate_lavgwkly, \"cate_predictions_lavgwkly.csv\", row.names = FALSE)\n",
        "\n",
        "# summarizing variation of CATE\n",
        "print(summary(cate_wkswork))\n",
        "print(summary(cate_lavgwkly))\n",
        "\n",
        "print(sd(cate_wkswork, na.rm = TRUE))  # Standard deviation\n",
        "print(sd(cate_lavgwkly, na.rm = TRUE)) # Standard deviation\n",
        "\n",
        "# plotting cate distributions\n",
        "ggplot(data.frame(CATEs = cate_wkswork), aes(x = CATEs)) +\n",
        "  geom_histogram(binwidth = 0.05, fill = \"blue\", alpha = 0.7) +\n",
        "  labs(\n",
        "    title = \"Distribution of Estimated CATEs (Weeks Worked)\",\n",
        "    x = \"Estimated CATE\",\n",
        "    y = \"Frequency\"\n",
        "  ) +\n",
        "  theme_minimal()\n",
        "\n",
        "ggsave(\"cate_distribution_wkswork.pdf\")\n",
        "\n",
        "ggplot(data.frame(CATEs = cate_lavgwkly), aes(x = CATEs)) +\n",
        "  geom_histogram(binwidth = 0.05, fill = \"green\", alpha = 0.7) +\n",
        "  labs(\n",
        "    title = \"Distribution of Estimated CATEs (Log Average Weekly Earnings)\",\n",
        "    x = \"Estimated CATE\",\n",
        "    y = \"Frequency\"\n",
        "  ) +\n",
        "  theme_minimal()\n",
        "\n",
        "ggsave(\"cate_distribution_log_avgwkly.pdf\")\n",
        "\n",
        "# calculating ate for weeks worked\n",
        "ate_wkswork <- average_treatment_effect(cf_wkswork, target.sample = \"all\")\n",
        "ate_wkswork_summary <- data.frame(\n",
        "  ATE = ate_wkswork[1],\n",
        "  LowerCI = ate_wkswork[1] - 1.96 * ate_wkswork[2],\n",
        "  UpperCI = ate_wkswork[1] + 1.96 * ate_wkswork[2]\n",
        ")\n",
        "\n",
        "# calculating cate for log average weekly earnings\n",
        "ate_lavgwkly <- average_treatment_effect(cf_lavgwkly, target.sample = \"all\")\n",
        "ate_lavgwkly_summary <- data.frame(\n",
        "  ATE = ate_lavgwkly[1],\n",
        "  LowerCI = ate_lavgwkly[1] - 1.96 * ate_lavgwkly[2],\n",
        "  UpperCI = ate_lavgwkly[1] + 1.96 * ate_lavgwkly[2]\n",
        ")\n",
        "\n",
        "# combining ate results into a single data frame\n",
        "ate_results <- data.frame(\n",
        "  Outcome = c(\"Weeks Worked\", \"Log Avg Weekly Earnings\"),\n",
        "  ATE = c(ate_wkswork_summary$ATE, ate_lavgwkly_summary$ATE),\n",
        "  LowerCI = c(ate_wkswork_summary$LowerCI, ate_lavgwkly_summary$LowerCI),\n",
        "  UpperCI = c(ate_wkswork_summary$UpperCI, ate_lavgwkly_summary$UpperCI)\n",
        ")\n",
        "\n",
        "# plotting ate error bars for confidence intervals\n",
        "ggplot(ate_results, aes(x = Outcome, y = ATE)) +\n",
        "  geom_point(size = 3, color = \"blue\") + # ATE points\n",
        "  geom_errorbar(aes(ymin = LowerCI, ymax = UpperCI), width = 0.2, color = \"darkblue\") + # Confidence intervals\n",
        "  labs(\n",
        "    title = \"Average Treatment Effect (ATE) with 95% Confidence Intervals\",\n",
        "    x = \"Outcome\",\n",
        "    y = \"ATE\"\n",
        "  ) +\n",
        "  theme_minimal()\n",
        "\n",
        "# saving plot\n",
        "ggsave(\"ate_plot.pdf\")\n",
        "\n",
        "# cate by disability\n",
        "cate_by_disability <- data.frame(\n",
        "  disability = data$dis_hp,\n",
        "  cate = predict(cf_wkswork)$predictions\n",
        ")\n",
        "\n",
        "ggplot(cate_by_disability, aes(x = disability, y = cate)) +\n",
        "  geom_boxplot() +\n",
        "  labs(title = \"CATE by Disability Status\", x = \"Disability Status\", y = \"CATE (Weeks Worked)\")\n",
        "\n",
        "# cate in disability\n",
        "cate_analysis <- data.frame(\n",
        "  disability_status = data$dis_hp,\n",
        "  cate = predict(cf_wkswork)$predictions\n",
        ")\n",
        "cate_analysis %>%\n",
        "  group_by(disability_status) %>%\n",
        "  summarize(\n",
        "    mean_cate = mean(cate, na.rm = TRUE),\n",
        "    sd_cate = sd(cate, na.rm = TRUE),\n",
        "    max_cate = max(cate, na.rm = TRUE),\n",
        "    min_cate = min(cate, na.rm = TRUE)\n",
        "  )\n",
        "outliers <- cate_analysis %>%\n",
        "  filter(cate > 5 & disability_status == 1.5)  # Customize threshold\n",
        "summary(outliers)"
      ]
    },
    {
      "cell_type": "code",
      "execution_count": null,
      "metadata": {
        "colab": {
          "base_uri": "https://localhost:8080/",
          "height": 471
        },
        "id": "Ek0CvYGuMugx",
        "outputId": "60c907cb-f113-423a-b7fb-ac4055cd489c"
      },
      "outputs": [
        {
          "output_type": "stream",
          "name": "stdout",
          "text": [
            " estimate   std.err \n",
            "0.4142441 0.2798065 \n"
          ]
        },
        {
          "output_type": "display_data",
          "data": {
            "text/plain": [
              "plot without title"
            ],
            "image/png": "[encoded data removed]"
          },
          "metadata": {
            "image/png": {
              "width": 420,
              "height": 420
            }
          }
        }
      ],
      "source": [
        "# loading necessary libraries\n",
        "library(dplyr)\n",
        "library(grf)\n",
        "library(ggplot2)\n",
        "\n",
        "# filtering data for individuals w/ disabilities (dis_hp = 1)\n",
        "disabled_data <- data %>% filter(dis_hp == 1)\n",
        "\n",
        "# preparing covariates for causal forest\n",
        "X <- disabled_data %>%\n",
        "  select(age_category, education_category, region_category, female_category, race_category) %>%\n",
        "  model.matrix(~ . - 1, data = .)\n",
        "\n",
        "# calculating weights for treatment\n",
        "disabled_data <- disabled_data %>%\n",
        "  mutate(weighted_dis_hp = ifelse(\n",
        "    treatment == 1,\n",
        "    fnlwgt / sum(fnlwgt[treatment == 1]),\n",
        "    fnlwgt / sum(fnlwgt[treatment == 0])\n",
        "  ))\n",
        "\n",
        "# training the causal forest for log weekly earnings (lavgwkly)\n",
        "cf_lavgwkly <- causal_forest(\n",
        "  X = X,\n",
        "  Y = as.vector(disabled_data$lavgwkly),  # outcome variable\n",
        "  W = as.vector(disabled_data$treatment),  # treatment indicator\n",
        "  sample.weights = disabled_data$weighted_dis_hp,  # adjusted weights\n",
        "  num.trees = 2000,\n",
        "  min.node.size = 10\n",
        ")\n",
        "\n",
        "# calculating ate\n",
        "ate <- average_treatment_effect(cf_lavgwkly)\n",
        "print(ate)  # Prints the ATE and its standard error\n",
        "\n",
        "# graphing ate\n",
        "ate_result <- data.frame(\n",
        "  ATE = ate[1],\n",
        "  Lower_CI = ate[1] - 1.96 * ate[2],  # 95% CI lower bound\n",
        "  Upper_CI = ate[1] + 1.96 * ate[2]   # 95% CI upper bound\n",
        ")\n",
        "\n",
        "# creating ate plot\n",
        "ate_plot <- ggplot(ate_result, aes(x = \"ATE for Log Weekly Earnings\", y = ATE)) +\n",
        "  geom_point(size = 4, color = \"blue\") +\n",
        "  geom_errorbar(aes(ymin = Lower_CI, ymax = Upper_CI), width = 0.2, color = \"darkblue\") +\n",
        "  labs(\n",
        "    title = \"Average Treatment Effect for Log Weekly Earnings (Individuals with Disabilities)\",\n",
        "    x = \"Treatment Effect\",\n",
        "    y = \"ATE Estimate\"\n",
        "  ) +\n",
        "  theme_minimal()\n",
        "\n",
        "# saving plot\n",
        "ggsave(\n",
        "  filename = \"ate_log_weekly_earnings_disabled.png\",\n",
        "  plot = ate_plot,\n",
        "  width = 8,\n",
        "  height = 6,\n",
        "  dpi = 300\n",
        ")\n",
        "print(ate_plot)"
      ]
    }
  ],
  "metadata": {
    "colab": {
      "provenance": []
    },
    "kernelspec": {
      "display_name": "R",
      "name": "ir"
    },
    "language_info": {
      "name": "R"
    }
  },
  "nbformat": 4,
  "nbformat_minor": 0
}
